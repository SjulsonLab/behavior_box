{
 "cells": [
  {
   "cell_type": "code",
   "execution_count": null,
   "metadata": {},
   "outputs": [],
   "source": [
    "# importing stuff\n",
    "from time import sleep\n",
    "import serial      # for communication with arduino\n",
    "import collections # for ordered dicts (sessionStr)\n",
    "import pysistence  # for immutable dict (mouseStr)\n",
    "import numpy as np \n",
    "\n"
   ]
  },
  {
   "cell_type": "code",
   "execution_count": null,
   "metadata": {},
   "outputs": [],
   "source": [
    "# defining immutable mouse dict\n",
    "mouse_dict = pysistence.make_dict({'mouseName': 'jaxmale08',\n",
    "                 'requiredVersion': 6,\n",
    "                 'leftVisCue': 0,\n",
    "                 'rightVisCue': 3,\n",
    "                 'leftAudCue': 3,\n",
    "                 'rightAudCue': 0})"
   ]
  },
  {
   "cell_type": "code",
   "execution_count": null,
   "metadata": {},
   "outputs": [],
   "source": [
    "# defining session dict\n",
    "\n",
    "resetTimeYN                             = 'yes'\n",
    "sessionStr                              = collections.OrderedDict()\n",
    "sessionStr['mouseName']                 = mouse_dict['mouseName']\n",
    "sessionStr['trainingPhase']             = 2\n",
    "sessionStr['startTrialNum']             = 1\n",
    "sessionStr['maxSessionLength_min']      = 60  # in minutes\n",
    "sessionStr['maxTrials']                 = 1000  # program terminates when either maxSessionLength_min or maxTrials is reached\n",
    "sessionStr['maxRewards']                = 200    # program also terminates if maxRewards is reached\n",
    "sessionStr['interTrialInterval_mean']   = 0   # number of extra seconds between trials\n",
    "sessionStr['interTrialInterval_SD']     = 0   # standard deviatino of seconds between trials\n",
    "sessionStr['punishForErrorPokeYN']      = 0  # 0 = no, 1 = yes for stage 5 only\n",
    "sessionStr['cueWithdrawalPunishYN']     = 0 # only 1 in phase 4-5\n",
    "\n",
    "allTrials = np.ones(sessionStr['maxTrials'])  # fix: get rid of allTrials later\n",
    "sessionStr['trialNum']                  = [];\n",
    "\n",
    "# info for specific trials - need to update this later\n",
    "# for stages 1-2, this should be [1 3]. For stage 3 and higher, it should be [1:6]\n",
    "# i.e. no free choice until stage 3\n",
    "sessionStr['trialLRtype']      = [1, 3, 1, 3, 1, 3, 1, 3] # (1 = LX, 2 = XL, 3 = RX, 4 = XR, 5 = LR, 6 = RL).\n",
    "sessionStr['trialLRtype_info'] = '(1 = LX, 2 = XL, 3 = RX, 4 = XR, 5 = LR, 6 = RL)'\n",
    "\n",
    "# this is planning for the future, when we will likely want two auditory\n",
    "# stimuli and two visual stimuli. For now, just leave it as all 3's\n",
    "sessionStr['trialAVtype']      = [3, 3, 3, 3, 3, 3, 3, 3, 3, 3]  # 1 = auditory only, 2 = visual only, 3 = both aud + vis\n",
    "sessionStr['trialAVtype_info'] = '1 = auditory only, 2 = visual only, 3 = both aud + vis'\n",
    "\n",
    "#sessionStr.items()"
   ]
  },
  {
   "cell_type": "code",
   "execution_count": null,
   "metadata": {},
   "outputs": [],
   "source": [
    "# setting parameters based on training phase\n",
    "if sessionStr['trainingPhase'] == 1:\n",
    "\tsessionStr['punishForErrorPokeYN']      = 0; # 0 = no, 1 = yes for stage 5 only\n",
    "\tsessionStr['cueWithdrawalPunishYN']     = 0; # only 1 in phase 4-5\n",
    "\tsessionStr['goToPokesLength']           = 60 * 1000;\n",
    "elif sessionStr['trainingPhase'] == 2:\n",
    "\tsessionStr['punishForErrorPokeYN']      = 0; # 0 = no, 1 = yes for stage 5 only\n",
    "\tsessionStr['cueWithdrawalPunishYN']     = 0; # only 1 in phase 4-5\n",
    "\tsessionStr['goToPokesLength']           = 60 * 1000;\n",
    "elif sessionStr['trainingPhase'] == 3:\n",
    "\tsessionStr['punishForErrorPokeYN']      = 0; # 0 = no, 1 = yes for stage 5 only\n",
    "\tsessionStr['cueWithdrawalPunishYN']     = 0; # only 1 in phase 4-5\n",
    "\tsessionStr['goToPokesLength']           = stage3_goToPokesLength;\n",
    "elif sessionStr['trainingPhase'] == 4:\n",
    "\tsessionStr['punishForErrorPokeYN']      = 0; # 0 = no, 1 = yes for stage 5 only\n",
    "\tsessionStr['cueWithdrawalPunishYN']     = 1; # only 1 in phase 4-5\n",
    "\tsessionStr['goToPokesLength']           = 4 * 1000;\n",
    "elif sessionStr['trainingPhase'] == 5:\n",
    "\tsessionStr['punishForErrorPokeYN']      = 1; # 0 = no, 1 = yes for stage 5 only\n",
    "\tsessionStr['cueWithdrawalPunishYN']     = 1; # only 1 in phase 4-5\n",
    "\tsessionStr['goToPokesLength']           = 4 * 1000;\n"
   ]
  },
  {
   "cell_type": "code",
   "execution_count": null,
   "metadata": {},
   "outputs": [],
   "source": [
    "# just the starting values - they will be updated later\n",
    "sessionStr['LrewardSize_nL']      = np.ones(1) * 5000; # the starting value, which will be updated over time\n",
    "sessionStr['RrewardSize_nL']      = np.ones(1) * 5000;\n",
    "sessionStr['rewardSizeMax_nL']    = np.ones(1) * 8000;\n",
    "sessionStr['rewardSizeMin_nL']    = np.ones(1) * 2000;\n",
    "sessionStr['rewardSizeDelta_nL']  = np.ones(1) * 500; # the number of nanoliters to adjust reward size by to prevent \n",
    "\n",
    "# cue lengths, etc. - for phases 4 and 5, they are changed below\n",
    "sessionStr['preCueLength']         = 0 * allTrials; \n",
    "sessionStr['cue1Length']           = 100 * allTrials;\n",
    "sessionStr['cue2Length']           = 100 * allTrials;\n",
    "sessionStr['interOnsetInterval']   = 0 * allTrials; \n",
    "sessionStr['postCueLength']        = 0 * allTrials;"
   ]
  },
  {
   "cell_type": "code",
   "execution_count": null,
   "metadata": {},
   "outputs": [],
   "source": [
    "#sessionStr = makeRewardCodes_v5(sessionStr, 1:length(allTrials)); # fix - adding reward codes to the struct\n",
    "sessionStr['LrewardCode'] = [0, 3, 0, 3, 0, 3, 3]\n",
    "sessionStr['RrewardCode'] = [3, 0, 3, 0, 3, 0, 3]\n"
   ]
  },
  {
   "cell_type": "code",
   "execution_count": null,
   "metadata": {},
   "outputs": [],
   "source": [
    "# initializing boxParams\n",
    "\n",
    "boxParams = dict()\n",
    "boxParams['nTrial'] =            sessionStr['startTrialNum']\n",
    "boxParams['resetTimeYN'] =       0 # setting this to 1 sets the arduino clock zero and sends a sync pulse to the intan\n",
    "boxParams['initPokePunishYN'] =  0 # setting to 1 enables punishment for initpoke during standby\n",
    "boxParams['cueWithdrawalPunishYN'] = 0 # setting to 1 enables punishment for poke withdrawal during cues\n",
    "\n",
    "boxParams['WNvolume'] =      50\n",
    "boxParams['lowCueVolume'] =  120\n",
    "boxParams['highCueVolume'] = 120\n",
    "boxParams['buzzerVolume'] =  90\n",
    "\n",
    "boxParams['trainingPhase'] = 0\n",
    "boxParams['laserOnCode'] = 0\n",
    "\n",
    "# these are all in milliseconds\n",
    "boxParams['readyToGoLength'] =        1000*30\n",
    "boxParams['punishDelayLength'] =      1000*6\n",
    "boxParams['preCueLength'] =           10\n",
    "boxParams['slot1Length'] =             5\n",
    "boxParams['slot2Length'] =             5\n",
    "boxParams['slot3Length'] =             5\n",
    "boxParams['postCueLength'] =          10\n",
    "boxParams['goToPokesLength'] =        1000*60\n",
    "boxParams['rewardCollectionLength'] = 1000*5\n",
    "\n",
    "boxParams['IrewardCode'] =  0\n",
    "boxParams['LrewardCode'] =  0\n",
    "boxParams['RrewardCode'] =  0\n",
    "# boxParams['extra4rewardCode'] =  0\n",
    "# boxParams['extra5rewardCode'] =  0\n",
    "# boxParams['extra6rewardCode'] =  0\n",
    "\n",
    "boxParams['IrewardSize_nL'] =       1000*5\n",
    "boxParams['LrewardSize_nL'] =       1000*5\n",
    "boxParams['RrewardSize_nL'] =       1000*5\n",
    "boxParams['deliveryDuration_ms'] =  1000\n",
    "boxParams['syringeSize_mL'] =       5\n",
    "\n",
    "boxParams['cueLED1Brightness'] =       1023\n",
    "boxParams['cueLED2Brightness'] =       1023\n",
    "boxParams['cueLED3Brightness'] =       1023\n",
    "boxParams['cueLED4Brightness'] =       1023"
   ]
  },
  {
   "cell_type": "code",
   "execution_count": null,
   "metadata": {},
   "outputs": [],
   "source": [
    "# making connection with arduino\n",
    "try:\n",
    "    del arduino\n",
    "except:\n",
    "    pass\n",
    "arduino = serial.Serial('COM5', 115200, timeout=10) # Establish the connection on a specific port\n",
    "arduino.set_buffer_size(rx_size=1000000, tx_size=1000000)\n",
    "sleep(1)  # required for connection \n",
    "arduino.write(b'calibrationLength;1000\\n')"
   ]
  },
  {
   "cell_type": "code",
   "execution_count": null,
   "metadata": {},
   "outputs": [],
   "source": [
    "# send boxParams to arduino\n",
    "for i in boxParams:\n",
    "#    print(bytes(i + ';' + str(boxParams[i]) + '\\n', 'utf-8'))\n",
    "    arduino.write(bytes(i + ';' + str(boxParams[i]) + '\\n', 'utf-8'))\n",
    "    \n",
    "sleep(1)  # unsure if that's necessary"
   ]
  },
  {
   "cell_type": "code",
   "execution_count": null,
   "metadata": {},
   "outputs": [],
   "source": [
    "nTrial = 1\n",
    "sessionStr['trialNum'].append(nTrial - 1 + sessionStr['startTrialNum'])\n",
    "\n",
    "# fix: make cue vectors here \n",
    "sessionStr['slot1_vis'] = [1, 2, 3, 1, 2, 3]\n",
    "sessionStr['slot1_aud'] = [1, 2, 3, 1, 2, 3]\n",
    "sessionStr['slot2_vis'] = [1, 2, 3, 1, 2, 3]\n",
    "sessionStr['slot2_aud'] = [1, 2, 3, 1, 2, 3]\n",
    "sessionStr['slot3_vis'] = [1, 2, 3, 1, 2, 3]\n",
    "sessionStr['slot3_aud'] = [1, 2, 3, 1, 2, 3]\n",
    "\n",
    "sessionStr['slot1Length'] = [100, 100, 100, 100]\n",
    "sessionStr['slot2Length'] = [100, 100, 100, 100]\n",
    "sessionStr['slot3Length'] = [100, 100, 100, 100]\n",
    "\n"
   ]
  },
  {
   "cell_type": "code",
   "execution_count": null,
   "metadata": {},
   "outputs": [],
   "source": [
    "# make the dict for each trial\n",
    "trial_dict = dict() # empty python dict that fills only w/parameters that\n",
    "# are updated in the current trial.\n",
    "\n",
    "trial_dict['nTrial'] = sessionStr['trialNum'][nTrial-1]\n",
    "trial_dict['trainingPhase'] = sessionStr['trainingPhase']\n",
    "trial_dict['goToPokesLength'] = sessionStr['goToPokesLength']\n",
    "\n",
    "# info about trial type - sent to arduino only so that they get\n",
    "# saved in text log file\n",
    "trial_dict['trialLRtype'] = sessionStr['trialLRtype'][nTrial-1]\n",
    "trial_dict['trialAVtype'] = sessionStr['trialAVtype'][nTrial-1]\n",
    "\n",
    "# reward info\n",
    "if sessionStr['trainingPhase'] == 1:\n",
    "    trial_dict['IrewardCode'] = 1\n",
    "elif sessionStr['trainingPhase'] == 2:\n",
    "    trial_dict['IrewardCode'] = 2\n",
    "elif sessionStr['trainingPhase'] > 2:\n",
    "    trial_dict['IrewardCode'] = 0\n",
    "\n",
    "\n",
    "trial_dict['LrewardCode'] = sessionStr['LrewardCode'][nTrial-1]\n",
    "trial_dict['LrewardSize_nL'] = sessionStr['LrewardSize_nL'][nTrial-1]\n",
    "trial_dict['RrewardCode'] = sessionStr['RrewardCode'][nTrial-1]\n",
    "trial_dict['RrewardSize_nL'] = sessionStr['RrewardSize_nL'][nTrial-1]\n",
    "\n",
    "# cue info\n",
    "trial_dict['slot1_vis'] = sessionStr['slot1_vis'][nTrial-1]\n",
    "trial_dict['slot1_aud'] = sessionStr['slot1_aud'][nTrial-1]\n",
    "trial_dict['slot2_vis'] = sessionStr['slot2_vis'][nTrial-1]\n",
    "trial_dict['slot2_aud'] = sessionStr['slot2_aud'][nTrial-1]\n",
    "trial_dict['slot3_vis'] = sessionStr['slot3_vis'][nTrial-1]\n",
    "trial_dict['slot3_aud'] = sessionStr['slot3_aud'][nTrial-1]\n",
    "\n",
    "trial_dict['cueWithdrawalPunishYN'] = sessionStr['cueWithdrawalPunishYN']\n",
    "trial_dict['preCueLength'] = sessionStr['preCueLength'][nTrial-1]\n",
    "trial_dict['slot1Length'] = sessionStr['slot1Length'][nTrial-1]\n",
    "trial_dict['slot2Length'] = sessionStr['slot2Length'][nTrial-1]\n",
    "trial_dict['slot3Length'] = sessionStr['slot3Length'][nTrial-1]\n",
    "trial_dict['postCueLength'] = sessionStr['postCueLength'][nTrial-1]"
   ]
  },
  {
   "cell_type": "code",
   "execution_count": null,
   "metadata": {},
   "outputs": [],
   "source": [
    "# send boxParams to arduino\n",
    "for i in trial_dict:\n",
    "#    print(bytes(i + ';' + str(boxParams[i]) + '\\n', 'utf-8'))\n",
    "    arduino.write(bytes(i + ';' + str(trial_dict[i]) + '\\n', 'utf-8'))\n",
    "    \n",
    "sleep(1)    \n"
   ]
  },
  {
   "cell_type": "code",
   "execution_count": null,
   "metadata": {},
   "outputs": [],
   "source": [
    "arduino.write(bytes('startTrialYN;1', 'utf-8'))\n"
   ]
  },
  {
   "cell_type": "code",
   "execution_count": null,
   "metadata": {},
   "outputs": [],
   "source": [
    "# loop to wait while trial runs, polling arduino periodically\n",
    "Astr = str('')  # declare temp string\n",
    "while not Astr.endswith('Standby'):\n",
    "   if arduino.in_waiting > 0:\n",
    "      sleep(0.1); # to prevent readline() from being called before the entire string is written\n",
    "      Astr = str(arduino.readline())\n",
    "      print(Astr)\n",
    "      #fprintf(logfid, [Astr '\\n']);\n",
    "      #fprintf([Astr '\\n']);\n",
    "   else:\n",
    "      sleep(0.050)\n",
    "   \n",
    "del Astr"
   ]
  },
  {
   "cell_type": "code",
   "execution_count": null,
   "metadata": {},
   "outputs": [],
   "source": []
  },
  {
   "cell_type": "code",
   "execution_count": null,
   "metadata": {},
   "outputs": [],
   "source": []
  },
  {
   "cell_type": "code",
   "execution_count": null,
   "metadata": {},
   "outputs": [],
   "source": []
  },
  {
   "cell_type": "code",
   "execution_count": null,
   "metadata": {},
   "outputs": [],
   "source": []
  },
  {
   "cell_type": "code",
   "execution_count": null,
   "metadata": {},
   "outputs": [],
   "source": [
    "#arduino.readline()"
   ]
  },
  {
   "cell_type": "code",
   "execution_count": null,
   "metadata": {},
   "outputs": [],
   "source": [
    "#arduino.close()"
   ]
  },
  {
   "cell_type": "code",
   "execution_count": null,
   "metadata": {},
   "outputs": [],
   "source": [
    "#del arduino"
   ]
  },
  {
   "cell_type": "code",
   "execution_count": null,
   "metadata": {},
   "outputs": [],
   "source": [
    "#whos"
   ]
  },
  {
   "cell_type": "code",
   "execution_count": null,
   "metadata": {},
   "outputs": [],
   "source": []
  },
  {
   "cell_type": "code",
   "execution_count": null,
   "metadata": {},
   "outputs": [],
   "source": []
  },
  {
   "cell_type": "code",
   "execution_count": null,
   "metadata": {},
   "outputs": [],
   "source": []
  },
  {
   "cell_type": "code",
   "execution_count": null,
   "metadata": {},
   "outputs": [],
   "source": []
  }
 ],
 "metadata": {
  "kernelspec": {
   "display_name": "Python 3",
   "language": "python",
   "name": "python3"
  },
  "language_info": {
   "codemirror_mode": {
    "name": "ipython",
    "version": 3
   },
   "file_extension": ".py",
   "mimetype": "text/x-python",
   "name": "python",
   "nbconvert_exporter": "python",
   "pygments_lexer": "ipython3",
   "version": "3.7.1"
  }
 },
 "nbformat": 4,
 "nbformat_minor": 2
}
