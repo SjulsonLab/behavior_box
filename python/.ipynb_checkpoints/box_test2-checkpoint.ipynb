{
 "cells": [
  {
   "cell_type": "code",
   "execution_count": 1,
   "metadata": {},
   "outputs": [],
   "source": [
    "# importing stuff\n",
    "from time import sleep\n",
    "import serial      # for communication with arduino\n",
    "import collections # for ordered dicts (sessionStr)\n",
    "import pysistence  # for immutable dict (mouseStr)\n",
    "#import numpy as np # not using currently"
   ]
  },
  {
   "cell_type": "code",
   "execution_count": 2,
   "metadata": {},
   "outputs": [],
   "source": [
    "# defining immutable mouse dict\n",
    "mouse_info = pysistence.make_dict({'mouseName': 'jaxmale08',\n",
    "                 'requiredVersion': 6,\n",
    "                 'leftVisCue': 0,\n",
    "                 'rightVisCue': 3,\n",
    "                 'leftAudCue': 3,\n",
    "                 'rightAudCue': 0})"
   ]
  },
  {
   "cell_type": "code",
   "execution_count": 3,
   "metadata": {},
   "outputs": [],
   "source": [
    "# defining part of session dict\n",
    "\n",
    "resetTimeYN                               = 'yes'\n",
    "session_info                              = collections.OrderedDict()\n",
    "session_info['mouseName']                 = mouse_info['mouseName']\n",
    "session_info['trainingPhase']             = 2\n",
    "# session_info['startTrialNum']             = 1  # fix: delete later? \n",
    "session_info['maxSessionLength_min']      = 60     # in minutes\n",
    "session_info['maxTrials']                 = 1000   # program terminates when either maxSessionLength_min or maxTrials is reached\n",
    "session_info['maxRewards']                = 200    # program also terminates if maxRewards is reached\n",
    "session_info['interTrialInterval_mean']   = 0      # number of extra seconds between trials\n",
    "session_info['interTrialInterval_SD']     = 0      # standard deviation of seconds between trials\n",
    "session_info['punishForErrorPokeYN']      = 0      # 0 = no, 1 = yes for stage 5 only\n",
    "session_info['cueWithdrawalPunishYN']     = 0      # only 1 in phase 4-5\n",
    "session_info['trialNum']                  = [1];   # the number of the first trial\n",
    "\n",
    "# info for specific trials - need to update this later\n",
    "# for stages 1-2, this should be [1 3]. For stage 3 and higher, it should be [1:6]\n",
    "# i.e. no free choice until stage 3\n",
    "session_info['trialLRtype']          = [1] # (1 = LX, 2 = XL, 3 = RX, 4 = XR, 5 = LR, 6 = RL).\n",
    "session_info['trialLRtype_info']     = '(1 = LX, 2 = XL, 3 = RX, 4 = XR, 5 = LR, 6 = RL)'\n",
    "\n",
    "# this is planning for the future, when we will likely want two auditory\n",
    "# stimuli and two visual stimuli. For now, just leave it as all 3's\n",
    "session_info['trialAVtype']          = [3]  # 1 = auditory only, 2 = visual only, 3 = both aud + vis\n",
    "session_info['trialAVtype_info']     = '1 = auditory only, 2 = visual only, 3 = both aud + vis'\n",
    "\n",
    "# just the starting values - they will be updated later\n",
    "session_info['LrewardSize_nL']       = [5000] # the starting value, which will be updated over time\n",
    "session_info['RrewardSize_nL']       = [5000]\n",
    "session_info['rewardSizeMax_nL']     = [8000]\n",
    "session_info['rewardSizeMin_nL']     = [2000]\n",
    "session_info['rewardSizeDelta_nL']   = [500] # the number of nanoliters to adjust reward size by to prevent \n",
    "\n",
    "# cue lengths, etc. - for phases 4 and 5, they are changed below\n",
    "session_info['preCueLength']         = [0]\n",
    "session_info['cue1Length']           = [100]\n",
    "session_info['cue2Length']           = [100]\n",
    "session_info['interOnsetInterval']   = [0]\n",
    "session_info['postCueLength']        = [0]"
   ]
  },
  {
   "cell_type": "code",
   "execution_count": 4,
   "metadata": {},
   "outputs": [],
   "source": [
    "# set the reward and slot codes for the first trial\n",
    "\n",
    "# fix: set these automatically for the first trial\n",
    "session_info['LrewardCode'] = []\n",
    "session_info['RrewardCode'] = []\n",
    "\n",
    "# fix: make slot vectors here \n",
    "session_info['slot1_vis'] = [1, 2, 3, 1, 2, 3]\n",
    "session_info['slot1_aud'] = [1, 2, 3, 1, 2, 3]\n",
    "session_info['slot2_vis'] = [1, 2, 3, 1, 2, 3]\n",
    "session_info['slot2_aud'] = [1, 2, 3, 1, 2, 3]\n",
    "session_info['slot3_vis'] = [1, 2, 3, 1, 2, 3]\n",
    "session_info['slot3_aud'] = [1, 2, 3, 1, 2, 3]\n",
    "\n",
    "session_info['slot1Length'] = [100, 100, 100, 100]\n",
    "session_info['slot2Length'] = [100, 100, 100, 100]\n",
    "session_info['slot3Length'] = [100, 100, 100, 100]"
   ]
  },
  {
   "cell_type": "code",
   "execution_count": 5,
   "metadata": {},
   "outputs": [],
   "source": [
    "# setting parameters based on training phase\n",
    "if session_info['trainingPhase'] == 1:\n",
    "\tsession_info['punishForErrorPokeYN']      = 0; # 0 = no, 1 = yes for stage 5 only\n",
    "\tsession_info['cueWithdrawalPunishYN']     = 0; # only 1 in phase 4-5\n",
    "\tsession_info['goToPokesLength']           = 60 * 1000;\n",
    "elif session_info['trainingPhase'] == 2:\n",
    "\tsession_info['punishForErrorPokeYN']      = 0; # 0 = no, 1 = yes for stage 5 only\n",
    "\tsession_info['cueWithdrawalPunishYN']     = 0; # only 1 in phase 4-5\n",
    "\tsession_info['goToPokesLength']           = 60 * 1000;\n",
    "elif session_info['trainingPhase'] == 3:\n",
    "\tsession_info['punishForErrorPokeYN']      = 0; # 0 = no, 1 = yes for stage 5 only\n",
    "\tsession_info['cueWithdrawalPunishYN']     = 0; # only 1 in phase 4-5\n",
    "\tsession_info['goToPokesLength']           = stage3_goToPokesLength;\n",
    "elif session_info['trainingPhase'] == 4:\n",
    "\tsession_info['punishForErrorPokeYN']      = 0; # 0 = no, 1 = yes for stage 5 only\n",
    "\tsession_info['cueWithdrawalPunishYN']     = 1; # only 1 in phase 4-5\n",
    "\tsession_info['goToPokesLength']           = 4 * 1000;\n",
    "elif session_info['trainingPhase'] == 5:\n",
    "\tsession_info['punishForErrorPokeYN']      = 1; # 0 = no, 1 = yes for stage 5 only\n",
    "\tsession_info['cueWithdrawalPunishYN']     = 1; # only 1 in phase 4-5\n",
    "\tsession_info['goToPokesLength']           = 4 * 1000;\n"
   ]
  },
  {
   "cell_type": "code",
   "execution_count": 6,
   "metadata": {},
   "outputs": [],
   "source": [
    "# figure out the COM port\n",
    "\n",
    "COM_port = 'COM5'  # fix: update this later"
   ]
  },
  {
   "cell_type": "code",
   "execution_count": null,
   "metadata": {},
   "outputs": [],
   "source": [
    "# make directory for logfile, add name of logfile to session_info, etc.\n"
   ]
  },
  {
   "cell_type": "code",
   "execution_count": 7,
   "metadata": {},
   "outputs": [],
   "source": [
    "# making connection with arduino, checking that required version is correct\n",
    "try:\n",
    "    del arduino\n",
    "except:\n",
    "    pass\n",
    "arduino = serial.Serial(COM_port, 115200, timeout=10) # Establish the connection on a specific port\n",
    "arduino.set_buffer_size(rx_size=1000000, tx_size=1000000)\n",
    "sleep(1)  # required for connection to complete before transmitting\n",
    "#arduino.write(b'calibrationLength;1000\\n')"
   ]
  },
  {
   "cell_type": "code",
   "execution_count": 12,
   "metadata": {},
   "outputs": [],
   "source": [
    "# initializing default box_params and sending to arduino\n",
    "\n",
    "box_params = dict()\n",
    "box_params['nTrial'] =                session_info['trialNum'][0]\n",
    "box_params['resetTimeYN'] =           0 # setting this to 1 sets the arduino clock zero and sends a sync pulse to the intan\n",
    "box_params['initPokePunishYN'] =      0 # setting to 1 enables punishment for initpoke during standby\n",
    "box_params['cueWithdrawalPunishYN'] = 0 # setting to 1 enables punishment for poke withdrawal during cues\n",
    "\n",
    "box_params['WNvolume'] =      50\n",
    "box_params['lowCueVolume'] =  120\n",
    "box_params['highCueVolume'] = 120\n",
    "box_params['buzzerVolume'] =  90\n",
    "\n",
    "box_params['trainingPhase'] = 0\n",
    "box_params['laserOnCode'] = 0\n",
    "\n",
    "# these are all in milliseconds\n",
    "box_params['readyToGoLength'] =        1000*30\n",
    "box_params['punishDelayLength'] =      1000*6\n",
    "box_params['preCueLength'] =           10\n",
    "box_params['slot1Length'] =             5\n",
    "box_params['slot2Length'] =             5\n",
    "box_params['slot3Length'] =             5\n",
    "box_params['postCueLength'] =          10\n",
    "box_params['goToPokesLength'] =        1000*60\n",
    "box_params['rewardCollectionLength'] = 1000*5\n",
    "\n",
    "# box_params['IrewardCode'] =  0\n",
    "box_params['LrewardCode'] =  0\n",
    "box_params['RrewardCode'] =  0\n",
    "# box_params['extra4rewardCode'] =  0\n",
    "# box_params['extra5rewardCode'] =  0\n",
    "# box_params['extra6rewardCode'] =  0\n",
    "\n",
    "# box_params['IrewardSize_nL'] =       1000*5\n",
    "box_params['LrewardSize_nL'] =       1000*5\n",
    "box_params['RrewardSize_nL'] =       1000*5\n",
    "box_params['deliveryDuration_ms'] =  1000\n",
    "box_params['syringeSize_mL'] =       5\n",
    "\n",
    "box_params['cueLED1Brightness'] =       1023\n",
    "box_params['cueLED2Brightness'] =       1023\n",
    "box_params['cueLED3Brightness'] =       1023\n",
    "box_params['cueLED4Brightness'] =       1023\n",
    "\n",
    "# send box_params to arduino\n",
    "for i in box_params:\n",
    "#    print(bytes(i + ';' + str(box_params[i]) + '\\n', 'utf-8'))\n",
    "    arduino.write(bytes(i + ';' + str(box_params[i]) + '\\n', 'utf-8'))\n",
    "    \n",
    "sleep(1)  # unsure if that's necessary"
   ]
  },
  {
   "cell_type": "code",
   "execution_count": null,
   "metadata": {},
   "outputs": [],
   "source": [
    "# create GUI\n"
   ]
  },
  {
   "cell_type": "code",
   "execution_count": 13,
   "metadata": {},
   "outputs": [
    {
     "data": {
      "text/plain": [
       "19"
      ]
     },
     "execution_count": 13,
     "metadata": {},
     "output_type": "execute_result"
    }
   ],
   "source": [
    "# start camera\n",
    "arduino.write(bytes('cameraRecordingYN;1', 'utf-8'))"
   ]
  },
  {
   "cell_type": "code",
   "execution_count": null,
   "metadata": {},
   "outputs": [],
   "source": [
    "# loop over trials begins here"
   ]
  },
  {
   "cell_type": "code",
   "execution_count": null,
   "metadata": {},
   "outputs": [],
   "source": [
    "# if it's not the first trial, append stuff for the current trial here\n",
    "\n"
   ]
  },
  {
   "cell_type": "code",
   "execution_count": null,
   "metadata": {},
   "outputs": [],
   "source": [
    "# send session_info to arduino\n",
    "for i in session_info:\n",
    "    # fix: put in if statement so it only iterates over entries that are not strings\n",
    "#    print(bytes(i + ';' + str(boxParams[i]) + '\\n', 'utf-8'))\n",
    "    arduino.write(bytes(i + ';' + str(trial_dict[i]) + '\\n', 'utf-8'))\n",
    "    \n",
    "sleep(1)    \n"
   ]
  },
  {
   "cell_type": "code",
   "execution_count": null,
   "metadata": {},
   "outputs": [],
   "source": [
    "# start the trial\n",
    "arduino.write(bytes('startTrialYN;1', 'utf-8'))\n"
   ]
  },
  {
   "cell_type": "code",
   "execution_count": null,
   "metadata": {},
   "outputs": [],
   "source": [
    "# loop to log info from arduino while trial runs\n",
    "Astr = str('')  # declare temp string\n",
    "while not Astr.endswith('Standby'):\n",
    "   if arduino.in_waiting > 0:\n",
    "      sleep(0.1); # to prevent readline() from being called before the entire string is written\n",
    "      Astr = str(arduino.readline())\n",
    "      print(Astr)\n",
    "      #fprintf(logfid, [Astr '\\n']);\n",
    "      #fprintf([Astr '\\n']);\n",
    "   else:\n",
    "      sleep(0.050)\n",
    "   \n",
    "del Astr"
   ]
  },
  {
   "cell_type": "code",
   "execution_count": null,
   "metadata": {},
   "outputs": [],
   "source": [
    "# evaluate whether or not to exit the loop"
   ]
  },
  {
   "cell_type": "code",
   "execution_count": null,
   "metadata": {},
   "outputs": [],
   "source": [
    "# optionally add random extra ITI"
   ]
  },
  {
   "cell_type": "code",
   "execution_count": null,
   "metadata": {},
   "outputs": [],
   "source": [
    "# end of loop"
   ]
  },
  {
   "cell_type": "code",
   "execution_count": null,
   "metadata": {},
   "outputs": [],
   "source": [
    "# stop camera\n",
    "arduino.write(bytes('cameraRecordingYN;0', 'utf-8'))"
   ]
  },
  {
   "cell_type": "code",
   "execution_count": null,
   "metadata": {},
   "outputs": [],
   "source": [
    "# save dicts to disk"
   ]
  },
  {
   "cell_type": "code",
   "execution_count": null,
   "metadata": {},
   "outputs": [],
   "source": [
    "# close arduino"
   ]
  },
  {
   "cell_type": "code",
   "execution_count": null,
   "metadata": {},
   "outputs": [],
   "source": []
  },
  {
   "cell_type": "code",
   "execution_count": null,
   "metadata": {},
   "outputs": [],
   "source": []
  },
  {
   "cell_type": "code",
   "execution_count": null,
   "metadata": {},
   "outputs": [],
   "source": []
  },
  {
   "cell_type": "code",
   "execution_count": 3,
   "metadata": {},
   "outputs": [
    {
     "data": {
      "text/plain": [
       "'Luke-HP-laptop'"
      ]
     },
     "execution_count": 3,
     "metadata": {},
     "output_type": "execute_result"
    }
   ],
   "source": [
    "import platform\n",
    "platform.node()\n"
   ]
  },
  {
   "cell_type": "code",
   "execution_count": 2,
   "metadata": {},
   "outputs": [
    {
     "data": {
      "text/plain": [
       "'Luke-HP-laptop'"
      ]
     },
     "execution_count": 2,
     "metadata": {},
     "output_type": "execute_result"
    }
   ],
   "source": [
    "\n",
    "import socket\n",
    "socket.gethostname()"
   ]
  },
  {
   "cell_type": "code",
   "execution_count": null,
   "metadata": {},
   "outputs": [],
   "source": []
  },
  {
   "cell_type": "code",
   "execution_count": null,
   "metadata": {},
   "outputs": [],
   "source": []
  },
  {
   "cell_type": "code",
   "execution_count": 11,
   "metadata": {},
   "outputs": [
    {
     "data": {
      "text/plain": [
       "1"
      ]
     },
     "execution_count": 11,
     "metadata": {},
     "output_type": "execute_result"
    }
   ],
   "source": []
  }
 ],
 "metadata": {
  "kernelspec": {
   "display_name": "Python 3",
   "language": "python",
   "name": "python3"
  },
  "language_info": {
   "codemirror_mode": {
    "name": "ipython",
    "version": 3
   },
   "file_extension": ".py",
   "mimetype": "text/x-python",
   "name": "python",
   "nbconvert_exporter": "python",
   "pygments_lexer": "ipython3",
   "version": "3.7.1"
  }
 },
 "nbformat": 4,
 "nbformat_minor": 2
}
