{
 "cells": [
  {
   "cell_type": "code",
   "execution_count": 2,
   "metadata": {},
   "outputs": [
    {
     "data": {
      "text/plain": [
       "{'test1': 0, 'test2': 3}"
      ]
     },
     "execution_count": 2,
     "metadata": {},
     "output_type": "execute_result"
    }
   ],
   "source": [
    "k = {'test1': 0, 'test2': 3}\n",
    "k"
   ]
  },
  {
   "cell_type": "code",
   "execution_count": 12,
   "metadata": {},
   "outputs": [],
   "source": [
    "import numpy\n",
    "import scipy.io\n",
    "\n",
    "scipy.io.savemat('test.mat', {'test_struct': k})\n"
   ]
  },
  {
   "cell_type": "code",
   "execution_count": 9,
   "metadata": {},
   "outputs": [
    {
     "name": "stdout",
     "output_type": "stream",
     "text": [
      "Help on function savemat in module scipy.io.matlab.mio:\n",
      "\n",
      "savemat(file_name, mdict, appendmat=True, format='5', long_field_names=False, do_compression=False, oned_as='row')\n",
      "    Save a dictionary of names and arrays into a MATLAB-style .mat file.\n",
      "    \n",
      "    This saves the array objects in the given dictionary to a MATLAB-\n",
      "    style .mat file.\n",
      "    \n",
      "    Parameters\n",
      "    ----------\n",
      "    file_name : str or file-like object\n",
      "        Name of the .mat file (.mat extension not needed if ``appendmat ==\n",
      "        True``).\n",
      "        Can also pass open file_like object.\n",
      "    mdict : dict\n",
      "        Dictionary from which to save matfile variables.\n",
      "    appendmat : bool, optional\n",
      "        True (the default) to append the .mat extension to the end of the\n",
      "        given filename, if not already present.\n",
      "    format : {'5', '4'}, string, optional\n",
      "        '5' (the default) for MATLAB 5 and up (to 7.2),\n",
      "        '4' for MATLAB 4 .mat files.\n",
      "    long_field_names : bool, optional\n",
      "        False (the default) - maximum field name length in a structure is\n",
      "        31 characters which is the documented maximum length.\n",
      "        True - maximum field name length in a structure is 63 characters\n",
      "        which works for MATLAB 7.6+.\n",
      "    do_compression : bool, optional\n",
      "        Whether or not to compress matrices on write.  Default is False.\n",
      "    oned_as : {'row', 'column'}, optional\n",
      "        If 'column', write 1-D numpy arrays as column vectors.\n",
      "        If 'row', write 1-D numpy arrays as row vectors.\n",
      "    \n",
      "    See also\n",
      "    --------\n",
      "    mio4.MatFile4Writer\n",
      "    mio5.MatFile5Writer\n",
      "\n"
     ]
    }
   ],
   "source": [
    "help(scipy.io.savemat)"
   ]
  },
  {
   "cell_type": "code",
   "execution_count": null,
   "metadata": {},
   "outputs": [],
   "source": []
  }
 ],
 "metadata": {
  "kernelspec": {
   "display_name": "Python 3",
   "language": "python",
   "name": "python3"
  },
  "language_info": {
   "codemirror_mode": {
    "name": "ipython",
    "version": 3
   },
   "file_extension": ".py",
   "mimetype": "text/x-python",
   "name": "python",
   "nbconvert_exporter": "python",
   "pygments_lexer": "ipython3",
   "version": "3.7.1"
  }
 },
 "nbformat": 4,
 "nbformat_minor": 2
}
