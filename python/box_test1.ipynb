{
 "cells": [
  {
   "cell_type": "code",
   "execution_count": 124,
   "metadata": {},
   "outputs": [],
   "source": [
    "from time import sleep\n",
    "import serial\n",
    "ser = serial.Serial('COM5', 115200, timeout=10) # Establish the connection on a specific port\n",
    "ser.set_buffer_size(rx_size=1000000, tx_size=1000000)\n"
   ]
  },
  {
   "cell_type": "code",
   "execution_count": 125,
   "metadata": {},
   "outputs": [
    {
     "data": {
      "text/plain": [
       "23"
      ]
     },
     "execution_count": 125,
     "metadata": {},
     "output_type": "execute_result"
    }
   ],
   "source": [
    "ser.write(b'calibrationLength;1000\\n')"
   ]
  },
  {
   "cell_type": "code",
   "execution_count": null,
   "metadata": {},
   "outputs": [],
   "source": [
    "    "
   ]
  },
  {
   "cell_type": "code",
   "execution_count": 41,
   "metadata": {},
   "outputs": [],
   "source": [
    "# using an immutable dict from pysistence module so that we can't accidentally modify these later\n",
    "from pysistence import make_dict\n",
    "mstr = make_dict({'mouse_name': 'jaxmale08',\n",
    "                 'required_version': 6,\n",
    "                 'left_vis_cue': 0,\n",
    "                 'right_vis_cue': 3,\n",
    "                 'left_aud_cue': 3,\n",
    "                 'right_aud_cue': 0})"
   ]
  },
  {
   "cell_type": "code",
   "execution_count": 54,
   "metadata": {},
   "outputs": [
    {
     "name": "stdout",
     "output_type": "stream",
     "text": [
      "b'mouse_name;jaxmale08\\n'\n",
      "b'required_version;6\\n'\n",
      "b'left_vis_cue;0\\n'\n",
      "b'right_vis_cue;3\\n'\n",
      "b'left_aud_cue;3\\n'\n",
      "b'right_aud_cue;0\\n'\n",
      "b'calibrationLength;1000\\n'\n"
     ]
    }
   ],
   "source": [
    "for i in mstr:\n",
    "    print(bytes(i + ';' + str(mstr[i]) + '\\n', 'utf-8'))\n",
    "    ser.write(bytes(i + ';' + str(mstr[i]) + '\\n', 'utf-8'))\n"
   ]
  },
  {
   "cell_type": "code",
   "execution_count": 46,
   "metadata": {},
   "outputs": [
    {
     "name": "stdout",
     "output_type": "stream",
     "text": [
      "Variable    Type                          Data/Info\n",
      "---------------------------------------------------\n",
      "i           str                           calibrationLength\n",
      "make_dict   type                          <class 'pysistence.persistent_dict.PDict'>\n",
      "mstr        PDict                         {'mouse_name': 'jaxmale08<...>calibrationLength': 1000}\n",
      "ser         Serial                        Serial<id=0x1f8dd4525c0, <...>scts=False, dsrdtr=False)\n",
      "serial      module                        <module 'serial' from 'C:<...>es\\\\serial\\\\__init__.py'>\n",
      "sleep       builtin_function_or_method    <built-in function sleep>\n",
      "sys         module                        <module 'sys' (built-in)>\n"
     ]
    }
   ],
   "source": [
    "whos"
   ]
  },
  {
   "cell_type": "code",
   "execution_count": null,
   "metadata": {},
   "outputs": [],
   "source": [
    "ser.close()"
   ]
  },
  {
   "cell_type": "code",
   "execution_count": null,
   "metadata": {},
   "outputs": [],
   "source": [
    "ser.readline()"
   ]
  },
  {
   "cell_type": "code",
   "execution_count": 31,
   "metadata": {},
   "outputs": [
    {
     "data": {
      "text/plain": [
       "<bound method SerialBase.read_until of Serial<id=0x25b5d68a470, open=True>(port='COM5', baudrate=115200, bytesize=8, parity='N', stopbits=1, timeout=10, xonxoff=False, rtscts=False, dsrdtr=False)>"
      ]
     },
     "execution_count": 31,
     "metadata": {},
     "output_type": "execute_result"
    }
   ],
   "source": [
    "ser.read_until"
   ]
  },
  {
   "cell_type": "code",
   "execution_count": null,
   "metadata": {},
   "outputs": [],
   "source": [
    "ser.close()"
   ]
  }
 ],
 "metadata": {
  "kernelspec": {
   "display_name": "Python 3",
   "language": "python",
   "name": "python3"
  },
  "language_info": {
   "codemirror_mode": {
    "name": "ipython",
    "version": 3
   },
   "file_extension": ".py",
   "mimetype": "text/x-python",
   "name": "python",
   "nbconvert_exporter": "python",
   "pygments_lexer": "ipython3",
   "version": "3.7.1"
  }
 },
 "nbformat": 4,
 "nbformat_minor": 2
}
