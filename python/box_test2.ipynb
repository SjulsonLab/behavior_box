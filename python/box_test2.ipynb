{
 "cells": [
  {
   "cell_type": "code",
   "execution_count": 1,
   "metadata": {},
   "outputs": [],
   "source": [
    "# importing stuff\n",
    "import time\n",
    "import serial      # for communication with arduino\n",
    "import collections # for ordered dicts (session_info)\n",
    "import pysistence  # for immutable dict (mouse_info)\n",
    "import warnings\n",
    "import box_utils   # box_utils.py must be in the same folder as this file"
   ]
  },
  {
   "cell_type": "code",
   "execution_count": 2,
   "metadata": {},
   "outputs": [],
   "source": [
    "# defining immutable mouse dict (once defined for a mouse, this should never change)\n",
    "mouse_info = pysistence.make_dict({'mouseName': 'jaxmale08',\n",
    "                 'requiredVersion': 7,\n",
    "                 'leftVisCue': 0,\n",
    "                 'rightVisCue': 3,\n",
    "                 'leftAudCue': 3,\n",
    "                 'rightAudCue': 0})"
   ]
  },
  {
   "cell_type": "code",
   "execution_count": 3,
   "metadata": {},
   "outputs": [],
   "source": [
    "# Information for this session (the user should edit this each session)\n",
    "# fix: insert date and time\n",
    "session_info                              = collections.OrderedDict()\n",
    "session_info['mouseName']                 = mouse_info['mouseName']\n",
    "session_info['trainingPhase']             = 4\n",
    "session_info['maxSessionLength_min']      = 60     # in minutes\n",
    "session_info['maxTrials']                 = 1000   # program terminates when either maxSessionLength_min or maxTrials is reached\n",
    "session_info['maxRewards']                = 200    # program also terminates if maxRewards is reached\n",
    "session_info['interTrialInterval_mean']   = 0      # number of extra seconds between trials\n",
    "session_info['interTrialInterval_SD']     = 0      # standard deviation of seconds between trials\n",
    "session_info['punishForErrorPokeYN']      = 0      # 0 = no, 1 = yes for stage 5 only\n",
    "session_info['cueWithdrawalPunishYN']     = 0      # only 1 in phase 4-5\n",
    "session_info['initPokePunishYN']          = 0      # whether to punish for init poke between trials\n",
    "session_info['nTrial']                    = [1];   # the number of the first trial\n",
    "session_info['resetTimeYN']               = 1      # whether or not to restart arduino timer at beginning of session\n",
    "\n",
    "# initializing trial L/R parameters\n",
    "session_info['trialLRtype']          = [] # (1 = LX, 2 = XL, 3 = RX, 4 = XR, 5 = LR, 6 = RL).\n",
    "session_info['trialLRtype_info']     = '(1 = LX, 2 = XL, 3 = RX, 4 = XR, 5 = LR, 6 = RL)'\n",
    "session_info['LrewardCode']          = [] # will be set automatically later\n",
    "session_info['RrewardCode']          = []\n",
    "\n",
    "# this is planning for the future, when we will likely want two auditory\n",
    "# stimuli and two visual stimuli. For now, just leave it as all 3's\n",
    "session_info['trialAVtype']          = [3]  # 1 = auditory only, 2 = visual only, 3 = both aud + vis\n",
    "session_info['trialAVtype_info']     = '1 = auditory only, 2 = visual only, 3 = both aud + vis'\n",
    "\n",
    "# will use this later, when we do optogenetic manipulation\n",
    "session_info['laserOnCode']          = [0]\n",
    "\n",
    "# reward parameters for first trial\n",
    "session_info['LrewardSize_nL']         = [5000] # the starting value, which will be updated over time\n",
    "session_info['RrewardSize_nL']         = [5000]\n",
    "session_info['rewardSizeMax_nL']       = [8000]\n",
    "session_info['rewardSizeMin_nL']       = [2000]\n",
    "session_info['rewardSizeDelta_nL']     = [500] # the number of nanoliters to adjust reward size by \n",
    "session_info['deliveryDuration_ms']    = 1000\n",
    "session_info['syringeSize_mL']         = 5\n",
    "\n",
    "# time intervals\n",
    "session_info['readyToGoLength']        = 1000*30\n",
    "session_info['punishDelayLength']      = 1000*6\n",
    "session_info['goToPokesLength']        = 1000*60\n",
    "session_info['rewardCollectionLength'] = 1000*5\n",
    "\n",
    "# cue lengths, etc. - for phases 4 and 5, they are changed below\n",
    "session_info['preCueLength']           = [0]\n",
    "session_info['cue1Length']             = [100]\n",
    "session_info['cue2Length']             = [100]\n",
    "session_info['interOnsetInterval']     = [0]\n",
    "session_info['postCueLength']          = [0]\n",
    "\n",
    "# cue volume and brightness\n",
    "session_info['WNvolume']               = 50     # volumes are 0-255\n",
    "session_info['lowCueVolume']           = 120\n",
    "session_info['highCueVolume']          = 120\n",
    "session_info['buzzerVolume']           = 90\n",
    "session_info['cueLED1Brightness']      = 1023   # brightness is 0-1023\n",
    "session_info['cueLED2Brightness']      = 1023\n",
    "session_info['cueLED3Brightness']      = 1023\n",
    "session_info['cueLED4Brightness']      = 1023\n",
    "\n",
    "# setting parameters based on training phase\n",
    "if session_info['trainingPhase'] == 1:\n",
    "\tsession_info['punishForErrorPokeYN']      = 0; # 0 = no, 1 = yes for stage 5 only\n",
    "\tsession_info['cueWithdrawalPunishYN']     = 0; # only 1 in phase 4-5\n",
    "\tsession_info['goToPokesLength']           = 60 * 1000;\n",
    "elif session_info['trainingPhase'] == 2:\n",
    "\tsession_info['punishForErrorPokeYN']      = 0; # 0 = no, 1 = yes for stage 5 only\n",
    "\tsession_info['cueWithdrawalPunishYN']     = 0; # only 1 in phase 4-5\n",
    "\tsession_info['goToPokesLength']           = 60 * 1000;\n",
    "elif session_info['trainingPhase'] == 3:\n",
    "\tsession_info['punishForErrorPokeYN']      = 0; # 0 = no, 1 = yes for stage 5 only\n",
    "\tsession_info['cueWithdrawalPunishYN']     = 0; # only 1 in phase 4-5\n",
    "\tsession_info['goToPokesLength']           = stage3_goToPokesLength; # fix\n",
    "elif session_info['trainingPhase'] == 4:\n",
    "\tsession_info['punishForErrorPokeYN']      = 0; # 0 = no, 1 = yes for stage 5 only\n",
    "\tsession_info['cueWithdrawalPunishYN']     = 1; # only 1 in phase 4-5\n",
    "\tsession_info['goToPokesLength']           = 4 * 1000;\n",
    "elif session_info['trainingPhase'] == 5:\n",
    "\tsession_info['punishForErrorPokeYN']      = 1; # 0 = no, 1 = yes for stage 5 only\n",
    "\tsession_info['cueWithdrawalPunishYN']     = 1; # only 1 in phase 4-5\n",
    "\tsession_info['goToPokesLength']           = 4 * 1000;\n",
    "    \n",
    "# initializing the cue/slot parameters\n",
    "session_info['slot1_vis'] = []\n",
    "session_info['slot1_aud'] = []\n",
    "session_info['slot2_vis'] = []\n",
    "session_info['slot2_aud'] = []\n",
    "session_info['slot3_vis'] = []\n",
    "session_info['slot3_aud'] = []\n",
    "session_info['slot1Length'] = []\n",
    "session_info['slot2Length'] = []\n",
    "session_info['slot3Length'] = []"
   ]
  },
  {
   "cell_type": "code",
   "execution_count": 32,
   "metadata": {},
   "outputs": [
    {
     "ename": "TypeError",
     "evalue": "function missing required argument 'year' (pos 1)",
     "output_type": "error",
     "traceback": [
      "\u001b[1;31m---------------------------------------------------------------------------\u001b[0m",
      "\u001b[1;31mTypeError\u001b[0m                                 Traceback (most recent call last)",
      "\u001b[1;32m<ipython-input-32-f11670fee835>\u001b[0m in \u001b[0;36m<module>\u001b[1;34m()\u001b[0m\n\u001b[0;32m      2\u001b[0m \u001b[1;32mimport\u001b[0m \u001b[0mdatetime\u001b[0m\u001b[1;33m\u001b[0m\u001b[1;33m\u001b[0m\u001b[0m\n\u001b[0;32m      3\u001b[0m \u001b[1;33m\u001b[0m\u001b[0m\n\u001b[1;32m----> 4\u001b[1;33m \u001b[0mdatetime\u001b[0m\u001b[1;33m.\u001b[0m\u001b[0mdate\u001b[0m\u001b[1;33m(\u001b[0m\u001b[1;33m)\u001b[0m\u001b[1;33m\u001b[0m\u001b[1;33m\u001b[0m\u001b[0m\n\u001b[0m",
      "\u001b[1;31mTypeError\u001b[0m: function missing required argument 'year' (pos 1)"
     ]
    }
   ],
   "source": [
    "# figuring out time and date\n",
    "import datetime\n",
    "\n",
    "datetime.date()"
   ]
  },
  {
   "cell_type": "code",
   "execution_count": 4,
   "metadata": {},
   "outputs": [],
   "source": [
    "# setting all parameters for the first trial\n",
    "\n",
    "# set the trialLRtype for the first trial\n",
    "# info for specific trials - need to update this later\n",
    "# for stages 1-2, this should be [1 3]. For stage 3 and higher, it should be [1:6]\n",
    "# i.e. no free choice until stage 3\n",
    "\n",
    "session_info['trialLRtype'] = [1]  # fix: add function to pick them randomly\n",
    "\n",
    "# set reward codes for the first trial\n",
    "box_utils.make_reward_codes(session_info)\n",
    "\n",
    "# set cue/slot cotes for the first trial\n",
    "box_utils.make_cues(session_info, mouse_info)"
   ]
  },
  {
   "cell_type": "code",
   "execution_count": 5,
   "metadata": {},
   "outputs": [],
   "source": [
    "# figure out the COM port\n",
    "COM_port = 'COM5'  # fix: update this later"
   ]
  },
  {
   "cell_type": "code",
   "execution_count": 6,
   "metadata": {},
   "outputs": [],
   "source": [
    "# make directory for logfile, add name of logfile to session_info, etc.\n"
   ]
  },
  {
   "cell_type": "code",
   "execution_count": 7,
   "metadata": {},
   "outputs": [],
   "source": [
    "# making connection with arduino, checking that required version is correct\n",
    "#connection_speed = 230400      # old value was 115200; let's see if we do 230400\n",
    "connection_speed = 115200\n",
    "try:\n",
    "    del arduino\n",
    "except:\n",
    "    pass\n",
    "arduino = serial.Serial(COM_port, connection_speed, timeout=10) # Establish the connection on a specific port\n",
    "arduino.set_buffer_size(rx_size=10000000, tx_size=10000000)\n",
    "time.sleep(1)  # required for connection to complete before transmitting\n",
    "# arduino.write(b'calibrationLength;1000\\n')  # for testing"
   ]
  },
  {
   "cell_type": "code",
   "execution_count": 8,
   "metadata": {},
   "outputs": [],
   "source": [
    "# verify the arduino is running the correct version of the box code\n",
    "arduino.flushInput()\n",
    "arduino.write(bytes('checkVersion', 'utf-8'))\n",
    "ver = int(arduino.readline())\n",
    "if ver != mouse_info['requiredVersion']:\n",
    "    raise Exception('This requires the arduino to run version ' + str(mouse_info['requiredVersion']) + \\\n",
    "                    ', but it is running ver ' + str(ver))\n",
    "del ver"
   ]
  },
  {
   "cell_type": "code",
   "execution_count": 9,
   "metadata": {},
   "outputs": [],
   "source": [
    "# initializing default box_params and sending to arduino\n",
    "box_utils.set_box_defaults(arduino)"
   ]
  },
  {
   "cell_type": "code",
   "execution_count": 10,
   "metadata": {},
   "outputs": [],
   "source": [
    "# create GUI to ask user to start trial\n"
   ]
  },
  {
   "cell_type": "code",
   "execution_count": 11,
   "metadata": {},
   "outputs": [],
   "source": [
    "# start camera\n",
    "box_utils.send_dict_to_arduino({'cameraRecordingYN' : 1}, arduino)"
   ]
  },
  {
   "cell_type": "code",
   "execution_count": 12,
   "metadata": {},
   "outputs": [],
   "source": [
    "# loop over trials begins here"
   ]
  },
  {
   "cell_type": "code",
   "execution_count": 13,
   "metadata": {},
   "outputs": [],
   "source": [
    "# if it's not the first trial, append stuff for the current trial here\n",
    "\n"
   ]
  },
  {
   "cell_type": "code",
   "execution_count": 14,
   "metadata": {},
   "outputs": [],
   "source": [
    "# send session_info to arduino\n",
    "box_utils.send_dict_to_arduino(session_info, arduino)"
   ]
  },
  {
   "cell_type": "code",
   "execution_count": 15,
   "metadata": {},
   "outputs": [
    {
     "data": {
      "text/plain": [
       "14"
      ]
     },
     "execution_count": 15,
     "metadata": {},
     "output_type": "execute_result"
    }
   ],
   "source": [
    "# start the trial\n",
    "#arduino.write(bytes('trainingPhase;1', 'utf-8'))\n",
    "# flush buffer\n",
    "# arduino.flushInput()\n",
    "arduino.write(bytes('startTrialYN;1', 'utf-8'))\n"
   ]
  },
  {
   "cell_type": "code",
   "execution_count": 16,
   "metadata": {},
   "outputs": [
    {
     "name": "stdout",
     "output_type": "stream",
     "text": [
      "544;1;TrialAvailable;0\n",
      "544;1;TrainingPhase;4\n",
      "544;1;requiredPokeHoldLength_ms;100\n",
      "545;1;trialLRtype;1\n",
      "545;1;trialAVtype;3\n",
      "545;1;Lsize_nL;5000\n",
      "545;1;Isize_nL;0\n",
      "547;1;Rsize_nL;5000\n",
      "3829;1;initPokeEntry;0\n",
      "3829;1;TrialStarted_ms;3280\n",
      "4099;1;initPokeExit_ms;270\n",
      "4929;1;leftPokeEntry;0\n",
      "4929;1;leftReward_nL;5000\n",
      "4929;1;leftRewardCollected;0\n",
      "4929;1;letTheAnimalDrink_ms;5000\n",
      "5174;1;leftPokeExit_ms;245\n",
      "8874;1;rightPokeEntry;0\n",
      "9114;1;rightPokeExit_ms;240\n",
      "9938;1;Standby;0\n",
      "Trial completed\n"
     ]
    }
   ],
   "source": [
    "# loop to log info from arduino while trial runs\n",
    "Astr = str('')  # declare temp string\n",
    "while not Astr.endswith('Standby;0'):\n",
    "#x = 1\n",
    "#while x < 5:    \n",
    "   if arduino.in_waiting > 0:\n",
    "      time.sleep(0.010); # to prevent readline() from being called before the entire string is written\n",
    "      Astr = arduino.readline().decode('utf-8').rstrip()\n",
    "      print(Astr)\n",
    "      #fprintf(logfid, [Astr '\\n']);\n",
    "      #fprintf([Astr '\\n']);\n",
    "#      x += 1\n",
    "   else:\n",
    "      time.sleep(0.050)\n",
    "del Astr\n",
    "\n",
    "print('Trial completed')"
   ]
  },
  {
   "cell_type": "code",
   "execution_count": 17,
   "metadata": {},
   "outputs": [],
   "source": [
    "# evaluate whether or not to exit the loop"
   ]
  },
  {
   "cell_type": "code",
   "execution_count": 18,
   "metadata": {},
   "outputs": [],
   "source": [
    "# optionally add random extra ITI"
   ]
  },
  {
   "cell_type": "code",
   "execution_count": 19,
   "metadata": {},
   "outputs": [],
   "source": [
    "# end of loop"
   ]
  },
  {
   "cell_type": "code",
   "execution_count": 20,
   "metadata": {},
   "outputs": [],
   "source": [
    "# stop camera\n",
    "#arduino.write(bytes('cameraRecordingYN;0', 'utf-8'))\n",
    "box_utils.send_dict_to_arduino({'cameraRecordingYN': 0}, arduino)"
   ]
  },
  {
   "cell_type": "code",
   "execution_count": 21,
   "metadata": {},
   "outputs": [],
   "source": [
    "# save dicts to disk"
   ]
  },
  {
   "cell_type": "code",
   "execution_count": 22,
   "metadata": {},
   "outputs": [],
   "source": [
    "# close arduino\n",
    "time.sleep(1)\n",
    "arduino.close()"
   ]
  },
  {
   "cell_type": "code",
   "execution_count": null,
   "metadata": {},
   "outputs": [],
   "source": []
  },
  {
   "cell_type": "code",
   "execution_count": null,
   "metadata": {},
   "outputs": [],
   "source": []
  },
  {
   "cell_type": "code",
   "execution_count": null,
   "metadata": {},
   "outputs": [],
   "source": []
  },
  {
   "cell_type": "code",
   "execution_count": 23,
   "metadata": {},
   "outputs": [
    {
     "data": {
      "text/plain": [
       "'Luke-HP-laptop'"
      ]
     },
     "execution_count": 23,
     "metadata": {},
     "output_type": "execute_result"
    }
   ],
   "source": [
    "import platform\n",
    "platform.node()\n"
   ]
  },
  {
   "cell_type": "code",
   "execution_count": 24,
   "metadata": {},
   "outputs": [
    {
     "data": {
      "text/plain": [
       "'Luke-HP-laptop'"
      ]
     },
     "execution_count": 24,
     "metadata": {},
     "output_type": "execute_result"
    }
   ],
   "source": [
    "import socket\n",
    "socket.gethostname()"
   ]
  },
  {
   "cell_type": "code",
   "execution_count": null,
   "metadata": {},
   "outputs": [],
   "source": []
  },
  {
   "cell_type": "code",
   "execution_count": 25,
   "metadata": {},
   "outputs": [],
   "source": [
    "#del arduino"
   ]
  },
  {
   "cell_type": "code",
   "execution_count": null,
   "metadata": {},
   "outputs": [],
   "source": []
  },
  {
   "cell_type": "code",
   "execution_count": null,
   "metadata": {},
   "outputs": [],
   "source": []
  },
  {
   "cell_type": "code",
   "execution_count": null,
   "metadata": {},
   "outputs": [],
   "source": []
  },
  {
   "cell_type": "code",
   "execution_count": null,
   "metadata": {},
   "outputs": [],
   "source": []
  },
  {
   "cell_type": "code",
   "execution_count": null,
   "metadata": {},
   "outputs": [],
   "source": []
  },
  {
   "cell_type": "code",
   "execution_count": null,
   "metadata": {},
   "outputs": [],
   "source": []
  },
  {
   "cell_type": "code",
   "execution_count": null,
   "metadata": {},
   "outputs": [],
   "source": []
  },
  {
   "cell_type": "code",
   "execution_count": null,
   "metadata": {},
   "outputs": [],
   "source": []
  },
  {
   "cell_type": "code",
   "execution_count": null,
   "metadata": {},
   "outputs": [],
   "source": []
  },
  {
   "cell_type": "code",
   "execution_count": null,
   "metadata": {},
   "outputs": [],
   "source": []
  },
  {
   "cell_type": "code",
   "execution_count": null,
   "metadata": {},
   "outputs": [],
   "source": []
  },
  {
   "cell_type": "code",
   "execution_count": null,
   "metadata": {},
   "outputs": [],
   "source": []
  },
  {
   "cell_type": "code",
   "execution_count": null,
   "metadata": {},
   "outputs": [],
   "source": []
  },
  {
   "cell_type": "code",
   "execution_count": null,
   "metadata": {},
   "outputs": [],
   "source": []
  },
  {
   "cell_type": "code",
   "execution_count": null,
   "metadata": {},
   "outputs": [],
   "source": []
  },
  {
   "cell_type": "code",
   "execution_count": null,
   "metadata": {},
   "outputs": [],
   "source": []
  },
  {
   "cell_type": "code",
   "execution_count": null,
   "metadata": {},
   "outputs": [],
   "source": []
  },
  {
   "cell_type": "code",
   "execution_count": null,
   "metadata": {},
   "outputs": [],
   "source": []
  },
  {
   "cell_type": "code",
   "execution_count": null,
   "metadata": {},
   "outputs": [],
   "source": []
  },
  {
   "cell_type": "code",
   "execution_count": null,
   "metadata": {},
   "outputs": [],
   "source": []
  },
  {
   "cell_type": "code",
   "execution_count": null,
   "metadata": {},
   "outputs": [],
   "source": []
  },
  {
   "cell_type": "code",
   "execution_count": null,
   "metadata": {},
   "outputs": [],
   "source": []
  },
  {
   "cell_type": "code",
   "execution_count": null,
   "metadata": {},
   "outputs": [],
   "source": []
  },
  {
   "cell_type": "code",
   "execution_count": null,
   "metadata": {},
   "outputs": [],
   "source": []
  },
  {
   "cell_type": "code",
   "execution_count": null,
   "metadata": {},
   "outputs": [],
   "source": []
  },
  {
   "cell_type": "code",
   "execution_count": null,
   "metadata": {},
   "outputs": [],
   "source": []
  },
  {
   "cell_type": "code",
   "execution_count": null,
   "metadata": {},
   "outputs": [],
   "source": []
  },
  {
   "cell_type": "code",
   "execution_count": null,
   "metadata": {},
   "outputs": [],
   "source": []
  },
  {
   "cell_type": "code",
   "execution_count": null,
   "metadata": {},
   "outputs": [],
   "source": []
  },
  {
   "cell_type": "code",
   "execution_count": null,
   "metadata": {},
   "outputs": [],
   "source": []
  },
  {
   "cell_type": "code",
   "execution_count": null,
   "metadata": {},
   "outputs": [],
   "source": []
  },
  {
   "cell_type": "code",
   "execution_count": null,
   "metadata": {},
   "outputs": [],
   "source": []
  },
  {
   "cell_type": "code",
   "execution_count": null,
   "metadata": {},
   "outputs": [],
   "source": []
  },
  {
   "cell_type": "code",
   "execution_count": null,
   "metadata": {},
   "outputs": [],
   "source": []
  },
  {
   "cell_type": "code",
   "execution_count": null,
   "metadata": {},
   "outputs": [],
   "source": []
  },
  {
   "cell_type": "code",
   "execution_count": null,
   "metadata": {},
   "outputs": [],
   "source": []
  },
  {
   "cell_type": "code",
   "execution_count": null,
   "metadata": {},
   "outputs": [],
   "source": []
  },
  {
   "cell_type": "code",
   "execution_count": null,
   "metadata": {},
   "outputs": [],
   "source": []
  },
  {
   "cell_type": "code",
   "execution_count": null,
   "metadata": {},
   "outputs": [],
   "source": []
  },
  {
   "cell_type": "code",
   "execution_count": null,
   "metadata": {},
   "outputs": [],
   "source": []
  },
  {
   "cell_type": "code",
   "execution_count": null,
   "metadata": {},
   "outputs": [],
   "source": []
  },
  {
   "cell_type": "code",
   "execution_count": null,
   "metadata": {},
   "outputs": [],
   "source": []
  },
  {
   "cell_type": "code",
   "execution_count": null,
   "metadata": {},
   "outputs": [],
   "source": []
  },
  {
   "cell_type": "code",
   "execution_count": null,
   "metadata": {},
   "outputs": [],
   "source": []
  },
  {
   "cell_type": "code",
   "execution_count": null,
   "metadata": {},
   "outputs": [],
   "source": []
  },
  {
   "cell_type": "code",
   "execution_count": null,
   "metadata": {},
   "outputs": [],
   "source": []
  },
  {
   "cell_type": "code",
   "execution_count": null,
   "metadata": {},
   "outputs": [],
   "source": []
  },
  {
   "cell_type": "code",
   "execution_count": null,
   "metadata": {},
   "outputs": [],
   "source": []
  },
  {
   "cell_type": "code",
   "execution_count": null,
   "metadata": {},
   "outputs": [],
   "source": []
  },
  {
   "cell_type": "code",
   "execution_count": null,
   "metadata": {},
   "outputs": [],
   "source": []
  },
  {
   "cell_type": "code",
   "execution_count": null,
   "metadata": {},
   "outputs": [],
   "source": []
  }
 ],
 "metadata": {
  "kernelspec": {
   "display_name": "Python 3",
   "language": "python",
   "name": "python3"
  },
  "language_info": {
   "codemirror_mode": {
    "name": "ipython",
    "version": 3
   },
   "file_extension": ".py",
   "mimetype": "text/x-python",
   "name": "python",
   "nbconvert_exporter": "python",
   "pygments_lexer": "ipython3",
   "version": "3.7.1"
  }
 },
 "nbformat": 4,
 "nbformat_minor": 2
}
